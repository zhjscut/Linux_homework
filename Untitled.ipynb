{
 "cells": [
  {
   "cell_type": "code",
   "execution_count": 1,
   "metadata": {},
   "outputs": [],
   "source": [
    "from email import encoders\n",
    "from email.header import Header\n",
    "from email.mime.text import MIMEText\n",
    "from email.utils import parseaddr, formataddr\n",
    "import smtplib\n",
    "\n",
    "\n",
    "def _format_addr(s):\n",
    "    name, addr = parseaddr(s) #按照邮件命名格式：用户名<邮箱地址>，将输入的字符串拆分成用户名和地址\n",
    "    return formataddr((Header(name, 'utf-8').encode(), addr))\n",
    "\n",
    "def send_email(message, to_addr, from_addr='403618577@qq.com', password='aswronlivdnibhig', smtp_server='smtp.qq.com'):\n",
    "    '''发送邮件\n",
    "        input: \n",
    "            message: 要发送的消息内容,str类型\n",
    "            to_addr：收件人地址，列表类型，元素为str类型，可群发，每个收件人为一个列表元素\n",
    "            from_addr：发件人地址，str类型\n",
    "            password：密码，QQ邮箱使用的不是QQ密码，而是授权码\n",
    "            smtp_server：smtp服务器地址\n",
    "        output: 无\n",
    "    '''\n",
    "    msg = MIMEText(message, 'plain', 'utf-8')\n",
    "    msg['From'] = _format_addr('Python爱好者 <%s>' % from_addr)\n",
    "    msg['To']  = ''\n",
    "    for i in range(0, len(to_addr)):\n",
    "        msg['To'] += _format_addr('管理员 <%s>' % to_addr[i]) + ';' \n",
    "    msg['Subject'] = Header('来自SMTP的问候……', 'utf-8').encode()\n",
    "\n",
    "    server = smtplib.SMTP_SSL(smtp_server, 465) # SMTP协议默认端口是25，SMTP_SSL协议默认端口是465，现在QQ邮箱不支持SMTP只支持SMTP_SSL\n",
    "    server.set_debuglevel(0) #如果设置为1，就可以打印出和SMTP服务器交互的所有信息\n",
    "    server.login(from_addr, password)\n",
    "    server.sendmail(from_addr, to_addr, msg.as_string()) #to_addr应为list类型，如果是单个字符串可以在外面套个[]\n",
    "    server.quit()\n"
   ]
  },
  {
   "cell_type": "code",
   "execution_count": 3,
   "metadata": {},
   "outputs": [],
   "source": [
    "import my_email"
   ]
  },
  {
   "cell_type": "code",
   "execution_count": 4,
   "metadata": {},
   "outputs": [
    {
     "name": "stdout",
     "output_type": "stream",
     "text": [
      "Content-Type: text/plain; charset=\"utf-8\"\n",
      "MIME-Version: 1.0\n",
      "Content-Transfer-Encoding: base64\n",
      "From: =?utf-8?b?UHl0aG9u54ix5aW96ICF?= <403618577@qq.com>\n",
      "To: \n",
      "To: =?utf-8?b?566h55CG5ZGY?= <806205254@qq.com>;\n",
      "Subject: =?utf-8?b?5p2l6IeqU01UUOeahOmXruWAmeKApuKApg==?=\n",
      "\n",
      "aGVsbG8sIHNlbmQgYnkgUHl0aG9uLi4u\n",
      "\n",
      "Content-Type: text/plain; charset=\"utf-8\"\n",
      "MIME-Version: 1.0\n",
      "Content-Transfer-Encoding: base64\n",
      "From: =?utf-8?b?UHl0aG9u54ix5aW96ICF?= <403618577@qq.com>\n",
      "To: \n",
      "To: =?utf-8?b?566h55CG5ZGY?= <806205254@qq.com>;\n",
      "Subject: =?utf-8?b?5p2l6IeqU01UUOeahOmXruWAmeKApuKApg==?=\n",
      "\n",
      "aGVsbG8sIHNlbmQgYnkgUHl0aG9uLi4u\n",
      "\n"
     ]
    }
   ],
   "source": [
    "message = 'hello, send by Python...'\n",
    "to_addr = ['806205254@qq.com']\n",
    "\n",
    "my_email.send_email(message, to_addr)\n"
   ]
  },
  {
   "cell_type": "code",
   "execution_count": 80,
   "metadata": {},
   "outputs": [],
   "source": [
    "from flask import Flask, request, send_from_directory, url_for\n",
    "import random\n",
    "import my_email\n",
    "\n",
    "app = Flask(__name__)\n",
    "@app.route('/send_captcha', methods =['POST'])\n",
    "def send_captcha():\n",
    "    # 点击发送验证码按钮后来到这里，向指定邮箱发送验证码\n",
    "    json_data = request.get_json()\n",
    "    to_addr = json_data['email']\n",
    "    #生成6位数字验证码\n",
    "    captcha = '' \n",
    "    for i in range(0, 6): \n",
    "        captcha += str(random.randint(0, 9)) #random.randint用于生成一个指定范围内的整数。其中参数a是下限，参数b是上限，生成的随机数n: a <= n <= b\n",
    "    message = 'From:轻风聊天室\\n\\t您的验证码为' + captcha + '，请收好~'\n",
    "    print(message)\n",
    "    my_email.send_email(message, [to_addr])\n",
    "#     为了后面判断验证码正确与否，要将验证码与对应的邮箱写入一个数据库表email_captcha\n",
    "    connection = pymysql.connect(host='127.0.0.1', port=3306, user='root', passwd='123456',\\\n",
    "                       db='Linux_homework', charset='utf8')\n",
    "    sql = \"INSERT INTO 'email_captcha' ('email', 'captcha') VALUES (%s, %s)\"\n",
    "    cursor.execute(sql, (to_addr, captcha))\n",
    "#     return 'Captcha sent.'\n",
    "    return 'success'"
   ]
  },
  {
   "cell_type": "code",
   "execution_count": 81,
   "metadata": {},
   "outputs": [],
   "source": [
    "@app.route('/send_captcha', methods =['POST'])\n",
    "def login():\n",
    "    # 点击“注册”按钮来到这里\n",
    "    json_data = request.get_json()\n",
    "    email = json_data['email']\n",
    "    username = json_data['username']\n",
    "    password = json_data['password'] #判断密码与确认密码是否一致放到前端，使得这里收到的必定是一致的\n",
    "    captcha = json_data['captcha']\n",
    "    print(email, username, password, captcha)\n",
    "    connection = pymysql.connect(host='127.0.0.1', port=3306, user='root', passwd='123456',\\\n",
    "                       db='Linux_homework', charset='utf8')\n",
    "    sql = \"SELECT 'id', 'password' FROM 'users' WHERE 'email'=%s\"\n",
    "    effect_rows = cursor.execute(sql, (email,))    \n",
    "    if effect_rows != 0: #已被注册\n",
    "        return 'existed'\n",
    "    else\n",
    "    \n",
    "    # 验证邮箱是否已被注册，可以考虑通过select判断条目数是否为0来验证，为0则未注册\n",
    "      # 若已注册，返回status_code = 'existed'\n",
    "    # 若未注册，则判断验证码与服务器发送出去的验证码是否一致\n",
    "      # 若不一致，返回status_code = 'wrong_captcha'\n",
    "    # 若一致，则在users数据库表中创建一个新条目\n",
    "    return 'success' #如果前端收到'success'，则在\n",
    "    \n"
   ]
  },
  {
   "cell_type": "code",
   "execution_count": 82,
   "metadata": {},
   "outputs": [
    {
     "ename": "UnsupportedOperation",
     "evalue": "not writable",
     "output_type": "error",
     "traceback": [
      "\u001b[1;31m---------------------------------------------------------------------------\u001b[0m",
      "\u001b[1;31mUnsupportedOperation\u001b[0m                      Traceback (most recent call last)",
      "\u001b[1;32m<ipython-input-82-bdb5caef7f6e>\u001b[0m in \u001b[0;36m<module>\u001b[1;34m()\u001b[0m\n\u001b[0;32m      3\u001b[0m \u001b[1;31m#     若邮箱被注册，判断密码是否正确，如果密码错误则返回status_code = 'wrong_password'、\u001b[0m\u001b[1;33m\u001b[0m\u001b[1;33m\u001b[0m\u001b[0m\n\u001b[0;32m      4\u001b[0m \u001b[1;31m# 若邮箱和密码皆符合要求，返回status_code = 'success'，出现欢迎语\u001b[0m\u001b[1;33m\u001b[0m\u001b[1;33m\u001b[0m\u001b[0m\n\u001b[1;32m----> 5\u001b[1;33m \u001b[0mapp\u001b[0m\u001b[1;33m.\u001b[0m\u001b[0mrun\u001b[0m\u001b[1;33m(\u001b[0m\u001b[1;33m)\u001b[0m\u001b[1;33m\u001b[0m\u001b[0m\n\u001b[0m",
      "\u001b[1;32md:\\anaconda3 4.2.0\\envs\\py3\\lib\\site-packages\\flask\\app.py\u001b[0m in \u001b[0;36mrun\u001b[1;34m(self, host, port, debug, load_dotenv, **options)\u001b[0m\n\u001b[0;32m    936\u001b[0m         \u001b[0moptions\u001b[0m\u001b[1;33m.\u001b[0m\u001b[0msetdefault\u001b[0m\u001b[1;33m(\u001b[0m\u001b[1;34m'threaded'\u001b[0m\u001b[1;33m,\u001b[0m \u001b[1;32mTrue\u001b[0m\u001b[1;33m)\u001b[0m\u001b[1;33m\u001b[0m\u001b[0m\n\u001b[0;32m    937\u001b[0m \u001b[1;33m\u001b[0m\u001b[0m\n\u001b[1;32m--> 938\u001b[1;33m         \u001b[0mcli\u001b[0m\u001b[1;33m.\u001b[0m\u001b[0mshow_server_banner\u001b[0m\u001b[1;33m(\u001b[0m\u001b[0mself\u001b[0m\u001b[1;33m.\u001b[0m\u001b[0menv\u001b[0m\u001b[1;33m,\u001b[0m \u001b[0mself\u001b[0m\u001b[1;33m.\u001b[0m\u001b[0mdebug\u001b[0m\u001b[1;33m,\u001b[0m \u001b[0mself\u001b[0m\u001b[1;33m.\u001b[0m\u001b[0mname\u001b[0m\u001b[1;33m,\u001b[0m \u001b[1;32mFalse\u001b[0m\u001b[1;33m)\u001b[0m\u001b[1;33m\u001b[0m\u001b[0m\n\u001b[0m\u001b[0;32m    939\u001b[0m \u001b[1;33m\u001b[0m\u001b[0m\n\u001b[0;32m    940\u001b[0m         \u001b[1;32mfrom\u001b[0m \u001b[0mwerkzeug\u001b[0m\u001b[1;33m.\u001b[0m\u001b[0mserving\u001b[0m \u001b[1;32mimport\u001b[0m \u001b[0mrun_simple\u001b[0m\u001b[1;33m\u001b[0m\u001b[0m\n",
      "\u001b[1;32md:\\anaconda3 4.2.0\\envs\\py3\\lib\\site-packages\\flask\\cli.py\u001b[0m in \u001b[0;36mshow_server_banner\u001b[1;34m(env, debug, app_import_path, eager_loading)\u001b[0m\n\u001b[0;32m    627\u001b[0m             \u001b[0mmessage\u001b[0m \u001b[1;33m+=\u001b[0m \u001b[1;34m' (lazy loading)'\u001b[0m\u001b[1;33m\u001b[0m\u001b[0m\n\u001b[0;32m    628\u001b[0m \u001b[1;33m\u001b[0m\u001b[0m\n\u001b[1;32m--> 629\u001b[1;33m         \u001b[0mclick\u001b[0m\u001b[1;33m.\u001b[0m\u001b[0mecho\u001b[0m\u001b[1;33m(\u001b[0m\u001b[0mmessage\u001b[0m\u001b[1;33m)\u001b[0m\u001b[1;33m\u001b[0m\u001b[0m\n\u001b[0m\u001b[0;32m    630\u001b[0m \u001b[1;33m\u001b[0m\u001b[0m\n\u001b[0;32m    631\u001b[0m     \u001b[0mclick\u001b[0m\u001b[1;33m.\u001b[0m\u001b[0mecho\u001b[0m\u001b[1;33m(\u001b[0m\u001b[1;34m' * Environment: {0}'\u001b[0m\u001b[1;33m.\u001b[0m\u001b[0mformat\u001b[0m\u001b[1;33m(\u001b[0m\u001b[0menv\u001b[0m\u001b[1;33m)\u001b[0m\u001b[1;33m)\u001b[0m\u001b[1;33m\u001b[0m\u001b[0m\n",
      "\u001b[1;32md:\\anaconda3 4.2.0\\envs\\py3\\lib\\site-packages\\click\\utils.py\u001b[0m in \u001b[0;36mecho\u001b[1;34m(message, file, nl, err, color)\u001b[0m\n\u001b[0;32m    257\u001b[0m \u001b[1;33m\u001b[0m\u001b[0m\n\u001b[0;32m    258\u001b[0m     \u001b[1;32mif\u001b[0m \u001b[0mmessage\u001b[0m\u001b[1;33m:\u001b[0m\u001b[1;33m\u001b[0m\u001b[0m\n\u001b[1;32m--> 259\u001b[1;33m         \u001b[0mfile\u001b[0m\u001b[1;33m.\u001b[0m\u001b[0mwrite\u001b[0m\u001b[1;33m(\u001b[0m\u001b[0mmessage\u001b[0m\u001b[1;33m)\u001b[0m\u001b[1;33m\u001b[0m\u001b[0m\n\u001b[0m\u001b[0;32m    260\u001b[0m     \u001b[0mfile\u001b[0m\u001b[1;33m.\u001b[0m\u001b[0mflush\u001b[0m\u001b[1;33m(\u001b[0m\u001b[1;33m)\u001b[0m\u001b[1;33m\u001b[0m\u001b[0m\n\u001b[0;32m    261\u001b[0m \u001b[1;33m\u001b[0m\u001b[0m\n",
      "\u001b[1;31mUnsupportedOperation\u001b[0m: not writable"
     ]
    }
   ],
   "source": [
    "# 点击“登录”按钮来到这里\n",
    "# 首先判断邮箱是否已被注册，如果没有被注册则返回status_code = 'nonexist'\n",
    "#     若邮箱被注册，判断密码是否正确，如果密码错误则返回status_code = 'wrong_password'、\n",
    "# 若邮箱和密码皆符合要求，返回status_code = 'success'，出现欢迎语\n"
   ]
  },
  {
   "cell_type": "code",
   "execution_count": null,
   "metadata": {},
   "outputs": [],
   "source": [
    "在命令行中输入的mysql创建数据库语句\n",
    "CREATE TABLE users ( \n",
    "    id int(11) NOT NULL AUTO_INCREMENT,\n",
    "    email varchar(255) unique COLLATE utf8_bin NOT NULL ,\n",
    "    username varchar(63) COLLATE utf8_bin NOT NULL,\n",
    "    password varchar(32) COLLATE utf8_bin NOT NULL,\n",
    "    PRIMARY KEY (id)\n",
    ") ENGINE=InnoDB DEFAULT CHARSET=utf8 COLLATE=utf8_bin\n",
    "AUTO_INCREMENT=1 ;\n",
    "\n",
    "create table email_captcha (\n",
    "    id int(6) NOT NULL AUTO_INCREMENT,\n",
    "    email varchar(255) unique COLLATE utf8_bin NOT NULL ,\n",
    "    captcha varchar(6) not null,\n",
    "    PRIMARY KEY (id)\n",
    "    )\n",
    "    auto_increment=1;"
   ]
  },
  {
   "cell_type": "code",
   "execution_count": 47,
   "metadata": {},
   "outputs": [
    {
     "name": "stdout",
     "output_type": "stream",
     "text": [
      "done\n"
     ]
    }
   ],
   "source": [
    "import pymysql\n",
    "\n",
    "\n",
    "# 创建连接（需数据库已存在）\n",
    "connection = pymysql.connect(host='127.0.0.1', port=3306, user='root', passwd='123456',\\\n",
    "                       db='Linux_homework', charset='utf8')\n",
    "email = '1245@123.com'\n",
    "username = 'zhj'\n",
    "password = '12345678'\n",
    "sql = \"insert into users (email, username, password) values ('\"  + email + \"','\" + username + \"','\" + password + \"');\"\n",
    "# 创建游标\n",
    "with connection.cursor() as cursor:\n",
    "#     sql = \"insert into users (email, username, password) values ('\"  + email + \"','\" + username + \"','\" + password + \"');\"\n",
    "#     print(sql)\n",
    "#     cursor.execute(sql)\n",
    "    sql = \"insert into users (email, username, password) values ( %s, %s, %s);\"\n",
    "    cursor.execute(sql, (email, username, password))\n",
    "    effect_row = cursor.execute(\"select * from users\")\n",
    "\n",
    "    print('done')\n",
    "    \n",
    "connection.commit()\n",
    "connection.close()\n",
    "\n",
    "# # 执行SQL，并返回受影响行数\n",
    "# effect_row = cursor.execute(\"select * from users\")\n",
    "\n",
    "# 执行SQL，并返回受影响行数\n"
   ]
  },
  {
   "cell_type": "code",
   "execution_count": 48,
   "metadata": {},
   "outputs": [
    {
     "data": {
      "text/plain": [
       "((1, '123@123.com', 'zhj', '12345678'),\n",
       " (2, '1234@123.com', 'zhj', '12345678'),\n",
       " (3, '12345@123.com', 'zhj', '12345678'),\n",
       " (5, '1245@123.com', 'zhj', '12345678'))"
      ]
     },
     "execution_count": 48,
     "metadata": {},
     "output_type": "execute_result"
    }
   ],
   "source": [
    "cursor.fetchall()"
   ]
  }
 ],
 "metadata": {
  "kernelspec": {
   "display_name": "Python 3",
   "language": "python",
   "name": "python3"
  },
  "language_info": {
   "codemirror_mode": {
    "name": "ipython",
    "version": 3
   },
   "file_extension": ".py",
   "mimetype": "text/x-python",
   "name": "python",
   "nbconvert_exporter": "python",
   "pygments_lexer": "ipython3",
   "version": "3.5.5"
  }
 },
 "nbformat": 4,
 "nbformat_minor": 2
}
